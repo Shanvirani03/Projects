{
 "cells": [
  {
   "cell_type": "code",
   "execution_count": 136,
   "id": "41d6652f",
   "metadata": {},
   "outputs": [],
   "source": [
    "import pandas as pd\n",
    "import numpy as np\n",
    "import matplotlib.pyplot as plt\n",
    "import seaborn as sns\n",
    "import statsmodels.formula.api as smf\n",
    "from sklearn.metrics import confusion_matrix\n",
    "from sklearn.metrics import roc_curve, auc\n",
    "from sklearn.model_selection import train_test_split"
   ]
  },
  {
   "cell_type": "markdown",
   "id": "cc003101",
   "metadata": {},
   "source": [
    "**Data Extraction and Set Up**"
   ]
  },
  {
   "cell_type": "code",
   "execution_count": 137,
   "id": "a01e9aab",
   "metadata": {},
   "outputs": [],
   "source": [
    "train = pd.read_csv('sfo_weather_train.csv')\n",
    "test = pd.read_csv('sfo_weather_test.csv')"
   ]
  },
  {
   "cell_type": "code",
   "execution_count": 138,
   "id": "38b04c50",
   "metadata": {},
   "outputs": [
    {
     "data": {
      "text/html": [
       "<div>\n",
       "<style scoped>\n",
       "    .dataframe tbody tr th:only-of-type {\n",
       "        vertical-align: middle;\n",
       "    }\n",
       "\n",
       "    .dataframe tbody tr th {\n",
       "        vertical-align: top;\n",
       "    }\n",
       "\n",
       "    .dataframe thead th {\n",
       "        text-align: right;\n",
       "    }\n",
       "</style>\n",
       "<table border=\"1\" class=\"dataframe\">\n",
       "  <thead>\n",
       "    <tr style=\"text-align: right;\">\n",
       "      <th></th>\n",
       "      <th>Precip</th>\n",
       "      <th>Air_Temp_Max</th>\n",
       "      <th>Air_Temp_Min</th>\n",
       "      <th>DayOfWeek</th>\n",
       "      <th>Operating_Airline</th>\n",
       "      <th>Dest</th>\n",
       "      <th>DestState</th>\n",
       "      <th>DepDelay</th>\n",
       "      <th>DepDel15</th>\n",
       "      <th>DepTimeBlk</th>\n",
       "      <th>Distance</th>\n",
       "      <th>DistanceGroup</th>\n",
       "      <th>DepDelayBinary</th>\n",
       "    </tr>\n",
       "  </thead>\n",
       "  <tbody>\n",
       "    <tr>\n",
       "      <th>0</th>\n",
       "      <td>0.12</td>\n",
       "      <td>57</td>\n",
       "      <td>44</td>\n",
       "      <td>7</td>\n",
       "      <td>AS</td>\n",
       "      <td>SEA</td>\n",
       "      <td>WA</td>\n",
       "      <td>-15.0</td>\n",
       "      <td>0.0</td>\n",
       "      <td>2100-2159</td>\n",
       "      <td>679.0</td>\n",
       "      <td>3</td>\n",
       "      <td>0</td>\n",
       "    </tr>\n",
       "    <tr>\n",
       "      <th>1</th>\n",
       "      <td>0.00</td>\n",
       "      <td>69</td>\n",
       "      <td>53</td>\n",
       "      <td>7</td>\n",
       "      <td>UA</td>\n",
       "      <td>LAS</td>\n",
       "      <td>NV</td>\n",
       "      <td>-5.0</td>\n",
       "      <td>0.0</td>\n",
       "      <td>1900-1959</td>\n",
       "      <td>414.0</td>\n",
       "      <td>2</td>\n",
       "      <td>0</td>\n",
       "    </tr>\n",
       "    <tr>\n",
       "      <th>2</th>\n",
       "      <td>0.00</td>\n",
       "      <td>68</td>\n",
       "      <td>53</td>\n",
       "      <td>2</td>\n",
       "      <td>UA</td>\n",
       "      <td>SNA</td>\n",
       "      <td>CA</td>\n",
       "      <td>-4.0</td>\n",
       "      <td>0.0</td>\n",
       "      <td>1000-1059</td>\n",
       "      <td>372.0</td>\n",
       "      <td>2</td>\n",
       "      <td>0</td>\n",
       "    </tr>\n",
       "    <tr>\n",
       "      <th>3</th>\n",
       "      <td>0.12</td>\n",
       "      <td>57</td>\n",
       "      <td>45</td>\n",
       "      <td>5</td>\n",
       "      <td>DL</td>\n",
       "      <td>SLC</td>\n",
       "      <td>UT</td>\n",
       "      <td>-8.0</td>\n",
       "      <td>0.0</td>\n",
       "      <td>1000-1059</td>\n",
       "      <td>599.0</td>\n",
       "      <td>3</td>\n",
       "      <td>0</td>\n",
       "    </tr>\n",
       "    <tr>\n",
       "      <th>4</th>\n",
       "      <td>0.06</td>\n",
       "      <td>65</td>\n",
       "      <td>50</td>\n",
       "      <td>3</td>\n",
       "      <td>AS</td>\n",
       "      <td>LAS</td>\n",
       "      <td>NV</td>\n",
       "      <td>-5.0</td>\n",
       "      <td>0.0</td>\n",
       "      <td>1700-1759</td>\n",
       "      <td>414.0</td>\n",
       "      <td>2</td>\n",
       "      <td>0</td>\n",
       "    </tr>\n",
       "    <tr>\n",
       "      <th>...</th>\n",
       "      <td>...</td>\n",
       "      <td>...</td>\n",
       "      <td>...</td>\n",
       "      <td>...</td>\n",
       "      <td>...</td>\n",
       "      <td>...</td>\n",
       "      <td>...</td>\n",
       "      <td>...</td>\n",
       "      <td>...</td>\n",
       "      <td>...</td>\n",
       "      <td>...</td>\n",
       "      <td>...</td>\n",
       "      <td>...</td>\n",
       "    </tr>\n",
       "    <tr>\n",
       "      <th>51525</th>\n",
       "      <td>0.03</td>\n",
       "      <td>67</td>\n",
       "      <td>51</td>\n",
       "      <td>3</td>\n",
       "      <td>UA</td>\n",
       "      <td>PDX</td>\n",
       "      <td>OR</td>\n",
       "      <td>-9.0</td>\n",
       "      <td>0.0</td>\n",
       "      <td>1900-1959</td>\n",
       "      <td>550.0</td>\n",
       "      <td>3</td>\n",
       "      <td>0</td>\n",
       "    </tr>\n",
       "    <tr>\n",
       "      <th>51526</th>\n",
       "      <td>0.00</td>\n",
       "      <td>73</td>\n",
       "      <td>55</td>\n",
       "      <td>5</td>\n",
       "      <td>QX</td>\n",
       "      <td>SEA</td>\n",
       "      <td>WA</td>\n",
       "      <td>-9.0</td>\n",
       "      <td>0.0</td>\n",
       "      <td>0600-0659</td>\n",
       "      <td>679.0</td>\n",
       "      <td>3</td>\n",
       "      <td>0</td>\n",
       "    </tr>\n",
       "    <tr>\n",
       "      <th>51527</th>\n",
       "      <td>0.01</td>\n",
       "      <td>70</td>\n",
       "      <td>54</td>\n",
       "      <td>3</td>\n",
       "      <td>WN</td>\n",
       "      <td>SAN</td>\n",
       "      <td>CA</td>\n",
       "      <td>95.0</td>\n",
       "      <td>1.0</td>\n",
       "      <td>2000-2059</td>\n",
       "      <td>447.0</td>\n",
       "      <td>2</td>\n",
       "      <td>1</td>\n",
       "    </tr>\n",
       "    <tr>\n",
       "      <th>51528</th>\n",
       "      <td>0.10</td>\n",
       "      <td>56</td>\n",
       "      <td>44</td>\n",
       "      <td>7</td>\n",
       "      <td>UA</td>\n",
       "      <td>SNA</td>\n",
       "      <td>CA</td>\n",
       "      <td>15.0</td>\n",
       "      <td>1.0</td>\n",
       "      <td>1900-1959</td>\n",
       "      <td>372.0</td>\n",
       "      <td>2</td>\n",
       "      <td>1</td>\n",
       "    </tr>\n",
       "    <tr>\n",
       "      <th>51529</th>\n",
       "      <td>0.04</td>\n",
       "      <td>65</td>\n",
       "      <td>50</td>\n",
       "      <td>5</td>\n",
       "      <td>UA</td>\n",
       "      <td>SAN</td>\n",
       "      <td>CA</td>\n",
       "      <td>-4.0</td>\n",
       "      <td>0.0</td>\n",
       "      <td>1700-1759</td>\n",
       "      <td>447.0</td>\n",
       "      <td>2</td>\n",
       "      <td>0</td>\n",
       "    </tr>\n",
       "  </tbody>\n",
       "</table>\n",
       "<p>51530 rows × 13 columns</p>\n",
       "</div>"
      ],
      "text/plain": [
       "       Precip  Air_Temp_Max  Air_Temp_Min  DayOfWeek Operating_Airline Dest  \\\n",
       "0        0.12            57            44          7                AS  SEA   \n",
       "1        0.00            69            53          7                UA  LAS   \n",
       "2        0.00            68            53          2                UA  SNA   \n",
       "3        0.12            57            45          5                DL  SLC   \n",
       "4        0.06            65            50          3                AS  LAS   \n",
       "...       ...           ...           ...        ...               ...  ...   \n",
       "51525    0.03            67            51          3                UA  PDX   \n",
       "51526    0.00            73            55          5                QX  SEA   \n",
       "51527    0.01            70            54          3                WN  SAN   \n",
       "51528    0.10            56            44          7                UA  SNA   \n",
       "51529    0.04            65            50          5                UA  SAN   \n",
       "\n",
       "      DestState  DepDelay  DepDel15 DepTimeBlk  Distance  DistanceGroup  \\\n",
       "0            WA     -15.0       0.0  2100-2159     679.0              3   \n",
       "1            NV      -5.0       0.0  1900-1959     414.0              2   \n",
       "2            CA      -4.0       0.0  1000-1059     372.0              2   \n",
       "3            UT      -8.0       0.0  1000-1059     599.0              3   \n",
       "4            NV      -5.0       0.0  1700-1759     414.0              2   \n",
       "...         ...       ...       ...        ...       ...            ...   \n",
       "51525        OR      -9.0       0.0  1900-1959     550.0              3   \n",
       "51526        WA      -9.0       0.0  0600-0659     679.0              3   \n",
       "51527        CA      95.0       1.0  2000-2059     447.0              2   \n",
       "51528        CA      15.0       1.0  1900-1959     372.0              2   \n",
       "51529        CA      -4.0       0.0  1700-1759     447.0              2   \n",
       "\n",
       "       DepDelayBinary  \n",
       "0                   0  \n",
       "1                   0  \n",
       "2                   0  \n",
       "3                   0  \n",
       "4                   0  \n",
       "...               ...  \n",
       "51525               0  \n",
       "51526               0  \n",
       "51527               1  \n",
       "51528               1  \n",
       "51529               0  \n",
       "\n",
       "[51530 rows x 13 columns]"
      ]
     },
     "execution_count": 138,
     "metadata": {},
     "output_type": "execute_result"
    }
   ],
   "source": [
    "train"
   ]
  },
  {
   "cell_type": "code",
   "execution_count": 139,
   "id": "25544318",
   "metadata": {},
   "outputs": [
    {
     "data": {
      "text/html": [
       "<div>\n",
       "<style scoped>\n",
       "    .dataframe tbody tr th:only-of-type {\n",
       "        vertical-align: middle;\n",
       "    }\n",
       "\n",
       "    .dataframe tbody tr th {\n",
       "        vertical-align: top;\n",
       "    }\n",
       "\n",
       "    .dataframe thead th {\n",
       "        text-align: right;\n",
       "    }\n",
       "</style>\n",
       "<table border=\"1\" class=\"dataframe\">\n",
       "  <thead>\n",
       "    <tr style=\"text-align: right;\">\n",
       "      <th></th>\n",
       "      <th>Precip</th>\n",
       "      <th>Air_Temp_Max</th>\n",
       "      <th>Air_Temp_Min</th>\n",
       "      <th>DayOfWeek</th>\n",
       "      <th>Operating_Airline</th>\n",
       "      <th>Dest</th>\n",
       "      <th>DestState</th>\n",
       "      <th>DepDelay</th>\n",
       "      <th>DepDel15</th>\n",
       "      <th>DepTimeBlk</th>\n",
       "      <th>Distance</th>\n",
       "      <th>DistanceGroup</th>\n",
       "      <th>DepDelayBinary</th>\n",
       "    </tr>\n",
       "  </thead>\n",
       "  <tbody>\n",
       "    <tr>\n",
       "      <th>0</th>\n",
       "      <td>0.03</td>\n",
       "      <td>68</td>\n",
       "      <td>51</td>\n",
       "      <td>6</td>\n",
       "      <td>OO</td>\n",
       "      <td>LAX</td>\n",
       "      <td>CA</td>\n",
       "      <td>-4.0</td>\n",
       "      <td>0.0</td>\n",
       "      <td>1000-1059</td>\n",
       "      <td>337.0</td>\n",
       "      <td>2</td>\n",
       "      <td>0</td>\n",
       "    </tr>\n",
       "    <tr>\n",
       "      <th>1</th>\n",
       "      <td>0.07</td>\n",
       "      <td>64</td>\n",
       "      <td>48</td>\n",
       "      <td>5</td>\n",
       "      <td>WN</td>\n",
       "      <td>LAS</td>\n",
       "      <td>NV</td>\n",
       "      <td>5.0</td>\n",
       "      <td>0.0</td>\n",
       "      <td>1700-1759</td>\n",
       "      <td>414.0</td>\n",
       "      <td>2</td>\n",
       "      <td>1</td>\n",
       "    </tr>\n",
       "    <tr>\n",
       "      <th>2</th>\n",
       "      <td>0.00</td>\n",
       "      <td>72</td>\n",
       "      <td>55</td>\n",
       "      <td>2</td>\n",
       "      <td>AA</td>\n",
       "      <td>DFW</td>\n",
       "      <td>TX</td>\n",
       "      <td>-10.0</td>\n",
       "      <td>0.0</td>\n",
       "      <td>1800-1859</td>\n",
       "      <td>1464.0</td>\n",
       "      <td>6</td>\n",
       "      <td>0</td>\n",
       "    </tr>\n",
       "    <tr>\n",
       "      <th>3</th>\n",
       "      <td>0.01</td>\n",
       "      <td>67</td>\n",
       "      <td>51</td>\n",
       "      <td>5</td>\n",
       "      <td>UA</td>\n",
       "      <td>EUG</td>\n",
       "      <td>OR</td>\n",
       "      <td>-7.0</td>\n",
       "      <td>0.0</td>\n",
       "      <td>2300-2359</td>\n",
       "      <td>451.0</td>\n",
       "      <td>2</td>\n",
       "      <td>0</td>\n",
       "    </tr>\n",
       "    <tr>\n",
       "      <th>4</th>\n",
       "      <td>0.09</td>\n",
       "      <td>56</td>\n",
       "      <td>45</td>\n",
       "      <td>5</td>\n",
       "      <td>OO</td>\n",
       "      <td>SLC</td>\n",
       "      <td>UT</td>\n",
       "      <td>16.0</td>\n",
       "      <td>1.0</td>\n",
       "      <td>0900-0959</td>\n",
       "      <td>599.0</td>\n",
       "      <td>3</td>\n",
       "      <td>1</td>\n",
       "    </tr>\n",
       "    <tr>\n",
       "      <th>...</th>\n",
       "      <td>...</td>\n",
       "      <td>...</td>\n",
       "      <td>...</td>\n",
       "      <td>...</td>\n",
       "      <td>...</td>\n",
       "      <td>...</td>\n",
       "      <td>...</td>\n",
       "      <td>...</td>\n",
       "      <td>...</td>\n",
       "      <td>...</td>\n",
       "      <td>...</td>\n",
       "      <td>...</td>\n",
       "      <td>...</td>\n",
       "    </tr>\n",
       "    <tr>\n",
       "      <th>22080</th>\n",
       "      <td>0.11</td>\n",
       "      <td>62</td>\n",
       "      <td>48</td>\n",
       "      <td>3</td>\n",
       "      <td>UA</td>\n",
       "      <td>OGG</td>\n",
       "      <td>HI</td>\n",
       "      <td>-3.0</td>\n",
       "      <td>0.0</td>\n",
       "      <td>1100-1159</td>\n",
       "      <td>2338.0</td>\n",
       "      <td>10</td>\n",
       "      <td>0</td>\n",
       "    </tr>\n",
       "    <tr>\n",
       "      <th>22081</th>\n",
       "      <td>0.17</td>\n",
       "      <td>58</td>\n",
       "      <td>46</td>\n",
       "      <td>1</td>\n",
       "      <td>OO</td>\n",
       "      <td>EUG</td>\n",
       "      <td>OR</td>\n",
       "      <td>6.0</td>\n",
       "      <td>0.0</td>\n",
       "      <td>1600-1659</td>\n",
       "      <td>451.0</td>\n",
       "      <td>2</td>\n",
       "      <td>1</td>\n",
       "    </tr>\n",
       "    <tr>\n",
       "      <th>22082</th>\n",
       "      <td>0.01</td>\n",
       "      <td>69</td>\n",
       "      <td>52</td>\n",
       "      <td>4</td>\n",
       "      <td>AA</td>\n",
       "      <td>PHX</td>\n",
       "      <td>AZ</td>\n",
       "      <td>3.0</td>\n",
       "      <td>0.0</td>\n",
       "      <td>1200-1259</td>\n",
       "      <td>651.0</td>\n",
       "      <td>3</td>\n",
       "      <td>1</td>\n",
       "    </tr>\n",
       "    <tr>\n",
       "      <th>22083</th>\n",
       "      <td>0.00</td>\n",
       "      <td>72</td>\n",
       "      <td>54</td>\n",
       "      <td>5</td>\n",
       "      <td>UA</td>\n",
       "      <td>SAN</td>\n",
       "      <td>CA</td>\n",
       "      <td>144.0</td>\n",
       "      <td>1.0</td>\n",
       "      <td>2200-2259</td>\n",
       "      <td>447.0</td>\n",
       "      <td>2</td>\n",
       "      <td>1</td>\n",
       "    </tr>\n",
       "    <tr>\n",
       "      <th>22084</th>\n",
       "      <td>0.14</td>\n",
       "      <td>61</td>\n",
       "      <td>47</td>\n",
       "      <td>1</td>\n",
       "      <td>F9</td>\n",
       "      <td>DEN</td>\n",
       "      <td>CO</td>\n",
       "      <td>112.0</td>\n",
       "      <td>1.0</td>\n",
       "      <td>0001-0559</td>\n",
       "      <td>967.0</td>\n",
       "      <td>4</td>\n",
       "      <td>1</td>\n",
       "    </tr>\n",
       "  </tbody>\n",
       "</table>\n",
       "<p>22085 rows × 13 columns</p>\n",
       "</div>"
      ],
      "text/plain": [
       "       Precip  Air_Temp_Max  Air_Temp_Min  DayOfWeek Operating_Airline Dest  \\\n",
       "0        0.03            68            51          6                OO  LAX   \n",
       "1        0.07            64            48          5                WN  LAS   \n",
       "2        0.00            72            55          2                AA  DFW   \n",
       "3        0.01            67            51          5                UA  EUG   \n",
       "4        0.09            56            45          5                OO  SLC   \n",
       "...       ...           ...           ...        ...               ...  ...   \n",
       "22080    0.11            62            48          3                UA  OGG   \n",
       "22081    0.17            58            46          1                OO  EUG   \n",
       "22082    0.01            69            52          4                AA  PHX   \n",
       "22083    0.00            72            54          5                UA  SAN   \n",
       "22084    0.14            61            47          1                F9  DEN   \n",
       "\n",
       "      DestState  DepDelay  DepDel15 DepTimeBlk  Distance  DistanceGroup  \\\n",
       "0            CA      -4.0       0.0  1000-1059     337.0              2   \n",
       "1            NV       5.0       0.0  1700-1759     414.0              2   \n",
       "2            TX     -10.0       0.0  1800-1859    1464.0              6   \n",
       "3            OR      -7.0       0.0  2300-2359     451.0              2   \n",
       "4            UT      16.0       1.0  0900-0959     599.0              3   \n",
       "...         ...       ...       ...        ...       ...            ...   \n",
       "22080        HI      -3.0       0.0  1100-1159    2338.0             10   \n",
       "22081        OR       6.0       0.0  1600-1659     451.0              2   \n",
       "22082        AZ       3.0       0.0  1200-1259     651.0              3   \n",
       "22083        CA     144.0       1.0  2200-2259     447.0              2   \n",
       "22084        CO     112.0       1.0  0001-0559     967.0              4   \n",
       "\n",
       "       DepDelayBinary  \n",
       "0                   0  \n",
       "1                   1  \n",
       "2                   0  \n",
       "3                   0  \n",
       "4                   1  \n",
       "...               ...  \n",
       "22080               0  \n",
       "22081               1  \n",
       "22082               1  \n",
       "22083               1  \n",
       "22084               1  \n",
       "\n",
       "[22085 rows x 13 columns]"
      ]
     },
     "execution_count": 139,
     "metadata": {},
     "output_type": "execute_result"
    }
   ],
   "source": [
    "test"
   ]
  },
  {
   "cell_type": "code",
   "execution_count": 140,
   "id": "abdb9e3b",
   "metadata": {},
   "outputs": [],
   "source": [
    "X_train = train.drop(columns=['DepDelay', 'DepDel15', 'DepDelayBinary'])\n",
    "X_test = test.drop(columns=['DepDelay', 'DepDel15', 'DepDelayBinary'])\n",
    "\n",
    "y_train_reg = train.loc[:, 'DepDelay']\n",
    "y_train_class = train.loc[:, 'DepDelayBinary']\n",
    "y_train_delay15 = train.loc[:, 'DepDel15']\n",
    "\n",
    "y_test_reg = test.loc[:, 'DepDelay']\n",
    "y_test_class = test.loc[:, 'DepDelayBinary']\n",
    "y_test_delay15 = test.loc[:, 'DepDel15']"
   ]
  },
  {
   "cell_type": "code",
   "execution_count": 141,
   "id": "af57e677",
   "metadata": {},
   "outputs": [
    {
     "data": {
      "text/plain": [
       "['Precip',\n",
       " 'Air_Temp_Max',\n",
       " 'Air_Temp_Min',\n",
       " 'DayOfWeek',\n",
       " 'Operating_Airline',\n",
       " 'Dest',\n",
       " 'DestState',\n",
       " 'DepDelay',\n",
       " 'DepDel15',\n",
       " 'DepTimeBlk',\n",
       " 'Distance',\n",
       " 'DistanceGroup',\n",
       " 'DepDelayBinary']"
      ]
     },
     "execution_count": 141,
     "metadata": {},
     "output_type": "execute_result"
    }
   ],
   "source": [
    "columns = list(test.columns)\n",
    "columns"
   ]
  },
  {
   "cell_type": "code",
   "execution_count": 142,
   "id": "3da43ffa",
   "metadata": {},
   "outputs": [
    {
     "name": "stdout",
     "output_type": "stream",
     "text": [
      "Warning: Maximum number of iterations has been exceeded.\n",
      "         Current function value: 0.618623\n",
      "         Iterations: 35\n",
      "                           Logit Regression Results                           \n",
      "==============================================================================\n",
      "Dep. Variable:         DepDelayBinary   No. Observations:                51530\n",
      "Model:                          Logit   Df Residuals:                    51416\n",
      "Method:                           MLE   Df Model:                          113\n",
      "Date:                Fri, 16 Dec 2022   Pseudo R-squ.:                 0.05565\n",
      "Time:                        19:41:51   Log-Likelihood:                -31878.\n",
      "converged:                      False   LL-Null:                       -33756.\n",
      "Covariance Type:            nonrobust   LLR p-value:                     0.000\n",
      "===========================================================================================\n",
      "                              coef    std err          z      P>|z|      [0.025      0.975]\n",
      "-------------------------------------------------------------------------------------------\n",
      "Intercept                  -4.7977   1.18e+05  -4.06e-05      1.000   -2.32e+05    2.32e+05\n",
      "Operating_Airline[T.AS]     0.7605      0.068     11.222      0.000       0.628       0.893\n",
      "Operating_Airline[T.B6]     0.0235      0.083      0.282      0.778      -0.140       0.187\n",
      "Operating_Airline[T.DL]     0.7127      0.080      8.861      0.000       0.555       0.870\n",
      "Operating_Airline[T.F9]     0.6014      0.101      5.969      0.000       0.404       0.799\n",
      "Operating_Airline[T.HA]     0.5193      0.139      3.732      0.000       0.247       0.792\n",
      "Operating_Airline[T.OO]     0.3749      0.067      5.594      0.000       0.244       0.506\n",
      "Operating_Airline[T.QX]     1.2182      0.107     11.346      0.000       1.008       1.429\n",
      "Operating_Airline[T.UA]     0.7358      0.061     12.075      0.000       0.616       0.855\n",
      "Operating_Airline[T.WN]     1.3143      0.073     17.897      0.000       1.170       1.458\n",
      "Dest[T.ACV]                -0.2262        nan        nan        nan         nan         nan\n",
      "Dest[T.ANC]                 0.7759   1.19e+05   6.52e-06      1.000   -2.33e+05    2.33e+05\n",
      "Dest[T.ASE]                 0.3573        nan        nan        nan         nan         nan\n",
      "Dest[T.ATL]                 0.6462   9.38e+05   6.89e-07      1.000   -1.84e+06    1.84e+06\n",
      "Dest[T.AUS]                -0.5950   2.18e+06  -2.73e-07      1.000   -4.28e+06    4.28e+06\n",
      "Dest[T.BDL]                 0.9149        nan        nan        nan         nan         nan\n",
      "Dest[T.BFL]                 0.0486        nan        nan        nan         nan         nan\n",
      "Dest[T.BIH]                 0.0771        nan        nan        nan         nan         nan\n",
      "Dest[T.BNA]                 0.5536    1.3e+07   4.26e-08      1.000   -2.55e+07    2.55e+07\n",
      "Dest[T.BOI]                -0.0387        nan        nan        nan         nan         nan\n",
      "Dest[T.BOS]                 0.7432   4.33e+06   1.72e-07      1.000   -8.48e+06    8.48e+06\n",
      "Dest[T.BUR]                -0.2582        nan        nan        nan         nan         nan\n",
      "Dest[T.BWI]                 0.8909        nan        nan        nan         nan         nan\n",
      "Dest[T.BZN]                 0.2350   6.44e+06   3.65e-08      1.000   -1.26e+07    1.26e+07\n",
      "Dest[T.CLE]                 0.3993        nan        nan        nan         nan         nan\n",
      "Dest[T.CLT]                 0.2844   4.19e+06   6.79e-08      1.000    -8.2e+06     8.2e+06\n",
      "Dest[T.CMH]                 0.1187        nan        nan        nan         nan         nan\n",
      "Dest[T.DAL]                 0.1707   2.18e+06   7.82e-08      1.000   -4.28e+06    4.28e+06\n",
      "Dest[T.DCA]                 0.4911        nan        nan        nan         nan         nan\n",
      "Dest[T.DEN]                 0.5473        nan        nan        nan         nan         nan\n",
      "Dest[T.DFW]                 0.6581   2.18e+06   3.01e-07      1.000   -4.28e+06    4.28e+06\n",
      "Dest[T.DTW]                 0.2726   1.22e+07   2.24e-08      1.000   -2.39e+07    2.39e+07\n",
      "Dest[T.EGE]                -0.1271        nan        nan        nan         nan         nan\n",
      "Dest[T.EUG]                -0.0063   1.27e+06  -4.95e-09      1.000   -2.48e+06    2.48e+06\n",
      "Dest[T.EWR]                 0.7228   4.94e+06   1.46e-07      1.000   -9.67e+06    9.67e+06\n",
      "Dest[T.FAT]                 0.0992        nan        nan        nan         nan         nan\n",
      "Dest[T.FCA]                -0.0645   6.44e+06     -1e-08      1.000   -1.26e+07    1.26e+07\n",
      "Dest[T.FLL]                 0.3928        nan        nan        nan         nan         nan\n",
      "Dest[T.GEG]                 0.1665   1.43e+06   1.17e-07      1.000    -2.8e+06     2.8e+06\n",
      "Dest[T.HDN]                -0.0322        nan        nan        nan         nan         nan\n",
      "Dest[T.HNL]                 1.0072        nan        nan        nan         nan         nan\n",
      "Dest[T.IAD]                 0.4309        nan        nan        nan         nan         nan\n",
      "Dest[T.IAH]                 0.5040   2.18e+06   2.31e-07      1.000   -4.27e+06    4.27e+06\n",
      "Dest[T.IND]                 0.4384        nan        nan        nan         nan         nan\n",
      "Dest[T.JAC]                -0.0477   4.97e+07  -9.59e-10      1.000   -9.74e+07    9.74e+07\n",
      "Dest[T.JFK]                 0.5196        nan        nan        nan         nan         nan\n",
      "Dest[T.KOA]                 0.1493        nan        nan        nan         nan         nan\n",
      "Dest[T.LAS]                -0.0396   1.18e+06  -3.37e-08      1.000    -2.3e+06     2.3e+06\n",
      "Dest[T.LAX]                 0.1850        nan        nan        nan         nan         nan\n",
      "Dest[T.LIH]                -0.0330        nan        nan        nan         nan         nan\n",
      "Dest[T.MCO]                 0.2950        nan        nan        nan         nan         nan\n",
      "Dest[T.MDW]                 0.0873        nan        nan        nan         nan         nan\n",
      "Dest[T.MFR]                -0.2842   1.27e+06  -2.24e-07      1.000   -2.48e+06    2.48e+06\n",
      "Dest[T.MIA]                 0.1815        nan        nan        nan         nan         nan\n",
      "Dest[T.MRY]                -0.5771        nan        nan        nan         nan         nan\n",
      "Dest[T.MSO]                -0.6355   6.44e+06  -9.87e-08      1.000   -1.26e+07    1.26e+07\n",
      "Dest[T.MSP]                 0.0922        nan        nan        nan         nan         nan\n",
      "Dest[T.MSY]                 0.3220        nan        nan        nan         nan         nan\n",
      "Dest[T.MTJ]                -0.6671        nan        nan        nan         nan         nan\n",
      "Dest[T.OGG]                -0.1574        nan        nan        nan         nan         nan\n",
      "Dest[T.OMA]                -7.6933   4.26e+11   -1.8e-11      1.000   -8.35e+11    8.35e+11\n",
      "Dest[T.ONT]                 0.1996        nan        nan        nan         nan         nan\n",
      "Dest[T.ORD]                 0.4257        nan        nan        nan         nan         nan\n",
      "Dest[T.OTH]                 0.5005   1.27e+06   3.95e-07      1.000   -2.48e+06    2.48e+06\n",
      "Dest[T.PAE]                -0.2816   1.43e+06  -1.97e-07      1.000    -2.8e+06     2.8e+06\n",
      "Dest[T.PDX]                -0.1157   1.26e+06  -9.15e-08      1.000   -2.48e+06    2.48e+06\n",
      "Dest[T.PHL]                 0.5874        nan        nan        nan         nan         nan\n",
      "Dest[T.PHX]                 0.1358        nan        nan        nan         nan         nan\n",
      "Dest[T.PIT]                 0.0842        nan        nan        nan         nan         nan\n",
      "Dest[T.PSC]                -0.1638   1.43e+06  -1.15e-07      1.000    -2.8e+06     2.8e+06\n",
      "Dest[T.PSP]                 0.2358        nan        nan        nan         nan         nan\n",
      "Dest[T.RDD]                -0.0474        nan        nan        nan         nan         nan\n",
      "Dest[T.RDM]                -0.1480   1.27e+06  -1.17e-07      1.000   -2.48e+06    2.48e+06\n",
      "Dest[T.RDU]                 0.3712   4.19e+06   8.87e-08      1.000   -8.21e+06    8.21e+06\n",
      "Dest[T.RNO]                -0.1090   1.18e+06  -9.24e-08      1.000   -2.31e+06    2.31e+06\n",
      "Dest[T.RSW]                 0.0557        nan        nan        nan         nan         nan\n",
      "Dest[T.SAN]                 0.4262        nan        nan        nan         nan         nan\n",
      "Dest[T.SAT]                -0.2550   2.18e+06  -1.17e-07      1.000   -4.28e+06    4.28e+06\n",
      "Dest[T.SBA]                -0.4334        nan        nan        nan         nan         nan\n",
      "Dest[T.SBP]                 0.1805        nan        nan        nan         nan         nan\n",
      "Dest[T.SDF]               -16.2295   1.47e+15  -1.11e-14      1.000   -2.88e+15    2.88e+15\n",
      "Dest[T.SEA]                 0.2357   1.43e+06   1.65e-07      1.000    -2.8e+06     2.8e+06\n",
      "Dest[T.SLC]                -0.1641        nan        nan        nan         nan         nan\n",
      "Dest[T.SMF]                 0.2675        nan        nan        nan         nan         nan\n",
      "Dest[T.SNA]                 0.0871        nan        nan        nan         nan         nan\n",
      "Dest[T.STL]                 8.3118        nan        nan        nan         nan         nan\n",
      "Dest[T.STS]                -0.7194        nan        nan        nan         nan         nan\n",
      "Dest[T.SUN]                -0.3201        nan        nan        nan         nan         nan\n",
      "Dest[T.TPA]                 0.2692        nan        nan        nan         nan         nan\n",
      "Dest[T.TUS]                -0.2341        nan        nan        nan         nan         nan\n",
      "DestState[T.AZ]            -0.0983        nan        nan        nan         nan         nan\n",
      "DestState[T.CA]            -0.4553        nan        nan        nan         nan         nan\n",
      "DestState[T.CO]             0.0782        nan        nan        nan         nan         nan\n",
      "DestState[T.CT]             0.9149        nan        nan        nan         nan         nan\n",
      "DestState[T.FL]             1.1943        nan        nan        nan         nan         nan\n",
      "DestState[T.GA]             0.6462   1.23e+06   5.24e-07      1.000   -2.42e+06    2.42e+06\n",
      "DestState[T.HI]             0.9661        nan        nan        nan         nan         nan\n",
      "DestState[T.ID]            -0.3588        nan        nan        nan         nan         nan\n",
      "DestState[T.IL]             0.5129        nan        nan        nan         nan         nan\n",
      "DestState[T.IN]             0.4384        nan        nan        nan         nan         nan\n",
      "DestState[T.KY]           -16.2295   1.47e+15  -1.11e-14      1.000   -2.88e+15    2.88e+15\n",
      "DestState[T.LA]             0.3220        nan        nan        nan         nan         nan\n",
      "DestState[T.MA]             0.7432   4.27e+06   1.74e-07      1.000   -8.38e+06    8.38e+06\n",
      "DestState[T.MD]             0.8909        nan        nan        nan         nan         nan\n",
      "DestState[T.MI]             0.2726   1.21e+07   2.26e-08      1.000   -2.36e+07    2.36e+07\n",
      "DestState[T.MN]             0.0922        nan        nan        nan         nan         nan\n",
      "DestState[T.MO]             8.3118        nan        nan        nan         nan         nan\n",
      "DestState[T.MT]            -0.4649   6.44e+06  -7.22e-08      1.000   -1.26e+07    1.26e+07\n",
      "DestState[T.NC]             0.6555   4.17e+06   1.57e-07      1.000   -8.18e+06    8.18e+06\n",
      "DestState[T.NE]            -7.6933   4.16e+11  -1.85e-11      1.000   -8.16e+11    8.16e+11\n",
      "DestState[T.NJ]             0.7228   4.94e+06   1.46e-07      1.000   -9.67e+06    9.67e+06\n",
      "DestState[T.NM]            -0.2459   1.19e+05  -2.06e-06      1.000   -2.34e+05    2.34e+05\n",
      "DestState[T.NV]            -0.1486   1.19e+06  -1.25e-07      1.000   -2.33e+06    2.33e+06\n",
      "DestState[T.NY]             0.5196   1.52e+06   3.41e-07      1.000   -2.99e+06    2.99e+06\n",
      "DestState[T.OH]             0.5180        nan        nan        nan         nan         nan\n",
      "DestState[T.OR]            -0.0537   1.28e+06  -4.21e-08      1.000    -2.5e+06     2.5e+06\n",
      "DestState[T.PA]             0.6716        nan        nan        nan         nan         nan\n",
      "DestState[T.TN]             0.5536    1.3e+07   4.26e-08      1.000   -2.55e+07    2.55e+07\n",
      "DestState[T.TX]             0.4828   2.27e+06   2.13e-07      1.000   -4.45e+06    4.45e+06\n",
      "DestState[T.UT]            -0.1641        nan        nan        nan         nan         nan\n",
      "DestState[T.VA]             0.9219        nan        nan        nan         nan         nan\n",
      "DestState[T.WA]            -0.0431   1.46e+06  -2.95e-08      1.000   -2.87e+06    2.87e+06\n",
      "DestState[T.WY]            -0.0477   4.86e+07  -9.82e-10      1.000   -9.52e+07    9.52e+07\n",
      "DepTimeBlk[T.0600-0659]    -0.0725      0.084     -0.861      0.389      -0.238       0.093\n",
      "DepTimeBlk[T.0700-0759]    -0.1394      0.089     -1.560      0.119      -0.314       0.036\n",
      "DepTimeBlk[T.0800-0859]     0.3611      0.075      4.828      0.000       0.215       0.508\n",
      "DepTimeBlk[T.0900-0959]     0.4593      0.082      5.634      0.000       0.300       0.619\n",
      "DepTimeBlk[T.1000-1059]     0.6862      0.076      9.042      0.000       0.537       0.835\n",
      "DepTimeBlk[T.1100-1159]     0.6841      0.079      8.612      0.000       0.528       0.840\n",
      "DepTimeBlk[T.1200-1259]     1.0220      0.079     12.918      0.000       0.867       1.177\n",
      "DepTimeBlk[T.1300-1359]     0.8942      0.076     11.815      0.000       0.746       1.042\n",
      "DepTimeBlk[T.1400-1459]     0.9055      0.082     11.033      0.000       0.745       1.066\n",
      "DepTimeBlk[T.1500-1559]     1.0510      0.089     11.823      0.000       0.877       1.225\n",
      "DepTimeBlk[T.1600-1659]     1.0352      0.075     13.812      0.000       0.888       1.182\n",
      "DepTimeBlk[T.1700-1759]     0.9449      0.089     10.615      0.000       0.770       1.119\n",
      "DepTimeBlk[T.1800-1859]     0.7657      0.078      9.784      0.000       0.612       0.919\n",
      "DepTimeBlk[T.1900-1959]     0.7981      0.082      9.737      0.000       0.637       0.959\n",
      "DepTimeBlk[T.2000-2059]     0.7617      0.088      8.704      0.000       0.590       0.933\n",
      "DepTimeBlk[T.2100-2159]     0.9655      0.093     10.414      0.000       0.784       1.147\n",
      "DepTimeBlk[T.2200-2259]     1.1710      0.077     15.211      0.000       1.020       1.322\n",
      "DepTimeBlk[T.2300-2359]     1.1776      0.083     14.170      0.000       1.015       1.340\n",
      "Precip                      0.2457      0.253      0.972      0.331      -0.250       0.741\n",
      "Air_Temp_Max                0.0357      0.008      4.480      0.000       0.020       0.051\n",
      "Air_Temp_Min                0.0055      0.010      0.538      0.591      -0.015       0.026\n",
      "DayOfWeek                   0.0565      0.005     11.732      0.000       0.047       0.066\n",
      "Distance                   -0.0033     40.707  -8.08e-05      1.000     -79.788      79.781\n",
      "DistanceGroup               0.6860   9684.060   7.08e-05      1.000    -1.9e+04     1.9e+04\n",
      "===========================================================================================\n"
     ]
    },
    {
     "name": "stderr",
     "output_type": "stream",
     "text": [
      "D:\\Anaconda\\lib\\site-packages\\statsmodels\\base\\model.py:604: ConvergenceWarning: Maximum Likelihood optimization failed to converge. Check mle_retvals\n",
      "  warnings.warn(\"Maximum Likelihood optimization failed to \"\n"
     ]
    }
   ],
   "source": [
    "logmodeldepdelay = smf.logit(formula = 'DepDelayBinary ~ Precip + Air_Temp_Max + Air_Temp_Min + DayOfWeek + Operating_Airline + Dest + DestState + DepTimeBlk + Distance + DistanceGroup',\n",
    "                     data = train).fit()\n",
    "\n",
    "print(logmodeldepdelay.summary())"
   ]
  },
  {
   "cell_type": "code",
   "execution_count": 143,
   "id": "a660598b",
   "metadata": {},
   "outputs": [
    {
     "name": "stdout",
     "output_type": "stream",
     "text": [
      "Warning: Maximum number of iterations has been exceeded.\n",
      "         Current function value: 0.447814\n",
      "         Iterations: 35\n",
      "                           Logit Regression Results                           \n",
      "==============================================================================\n",
      "Dep. Variable:               DepDel15   No. Observations:                51530\n",
      "Model:                          Logit   Df Residuals:                    51416\n",
      "Method:                           MLE   Df Model:                          113\n",
      "Date:                Fri, 16 Dec 2022   Pseudo R-squ.:                 0.03137\n",
      "Time:                        19:41:54   Log-Likelihood:                -23076.\n",
      "converged:                      False   LL-Null:                       -23823.\n",
      "Covariance Type:            nonrobust   LLR p-value:                9.573e-240\n",
      "===========================================================================================\n",
      "                              coef    std err          z      P>|z|      [0.025      0.975]\n",
      "-------------------------------------------------------------------------------------------\n",
      "Intercept                  -3.9054   9.35e+04  -4.18e-05      1.000   -1.83e+05    1.83e+05\n",
      "Operating_Airline[T.AS]     0.4076      0.082      4.971      0.000       0.247       0.568\n",
      "Operating_Airline[T.B6]     0.0253      0.100      0.254      0.799      -0.170       0.220\n",
      "Operating_Airline[T.DL]     0.1824      0.100      1.827      0.068      -0.013       0.378\n",
      "Operating_Airline[T.F9]     0.5942      0.118      5.054      0.000       0.364       0.825\n",
      "Operating_Airline[T.HA]    -0.0083      0.189     -0.044      0.965      -0.379       0.363\n",
      "Operating_Airline[T.OO]     0.1060      0.082      1.292      0.197      -0.055       0.267\n",
      "Operating_Airline[T.QX]     0.6169      0.128      4.836      0.000       0.367       0.867\n",
      "Operating_Airline[T.UA]     0.2027      0.074      2.741      0.006       0.058       0.348\n",
      "Operating_Airline[T.WN]     0.6810      0.089      7.669      0.000       0.507       0.855\n",
      "Dest[T.ACV]                 0.1122        nan        nan        nan         nan         nan\n",
      "Dest[T.ANC]                 0.5811    2.1e+05   2.77e-06      1.000   -4.12e+05    4.12e+05\n",
      "Dest[T.ASE]                 0.6600        nan        nan        nan         nan         nan\n",
      "Dest[T.ATL]                 0.1636    6.6e+06   2.48e-08      1.000   -1.29e+07    1.29e+07\n",
      "Dest[T.AUS]                -0.0266      8e+05  -3.33e-08      1.000   -1.57e+06    1.57e+06\n",
      "Dest[T.BDL]                 0.6087   3.12e+08   1.95e-09      1.000   -6.11e+08    6.11e+08\n",
      "Dest[T.BFL]                -0.2783        nan        nan        nan         nan         nan\n",
      "Dest[T.BIH]                 0.1087        nan        nan        nan         nan         nan\n",
      "Dest[T.BNA]                -0.0265        nan        nan        nan         nan         nan\n",
      "Dest[T.BOI]                 0.0987        nan        nan        nan         nan         nan\n",
      "Dest[T.BOS]                 0.1542        nan        nan        nan         nan         nan\n",
      "Dest[T.BUR]                 0.1032        nan        nan        nan         nan         nan\n",
      "Dest[T.BWI]                 0.2363   1.96e+07   1.21e-08      1.000   -3.84e+07    3.84e+07\n",
      "Dest[T.BZN]                 0.3751        nan        nan        nan         nan         nan\n",
      "Dest[T.CLE]                 0.1410   8.46e+06   1.67e-08      1.000   -1.66e+07    1.66e+07\n",
      "Dest[T.CLT]                 0.1179   5.68e+06   2.07e-08      1.000   -1.11e+07    1.11e+07\n",
      "Dest[T.CMH]                -0.0883   8.46e+06  -1.04e-08      1.000   -1.66e+07    1.66e+07\n",
      "Dest[T.DAL]                -0.0272   7.99e+05   -3.4e-08      1.000   -1.57e+06    1.57e+06\n",
      "Dest[T.DCA]                 0.0052   2.17e+06    2.4e-09      1.000   -4.25e+06    4.25e+06\n",
      "Dest[T.DEN]                -0.1546        nan        nan        nan         nan         nan\n",
      "Dest[T.DFW]                 0.2386   7.98e+05   2.99e-07      1.000   -1.56e+06    1.56e+06\n",
      "Dest[T.DTW]                -0.0423   9.83e+06   -4.3e-09      1.000   -1.93e+07    1.93e+07\n",
      "Dest[T.EGE]                -0.0360        nan        nan        nan         nan         nan\n",
      "Dest[T.EUG]                -0.2579   3.26e+06  -7.92e-08      1.000   -6.38e+06    6.38e+06\n",
      "Dest[T.EWR]                 0.4456        nan        nan        nan         nan         nan\n",
      "Dest[T.FAT]                 0.0116        nan        nan        nan         nan         nan\n",
      "Dest[T.FCA]                -0.2729        nan        nan        nan         nan         nan\n",
      "Dest[T.FLL]                 0.1231        nan        nan        nan         nan         nan\n",
      "Dest[T.GEG]                -0.2644        nan        nan        nan         nan         nan\n",
      "Dest[T.HDN]                -0.5405        nan        nan        nan         nan         nan\n",
      "Dest[T.HNL]                 0.3004        nan        nan        nan         nan         nan\n",
      "Dest[T.IAD]                 0.1489   2.17e+06   6.85e-08      1.000   -4.26e+06    4.26e+06\n",
      "Dest[T.IAH]                 0.0955   8.05e+05   1.19e-07      1.000   -1.58e+06    1.58e+06\n",
      "Dest[T.IND]                 0.0076   2.78e+08   2.73e-11      1.000   -5.45e+08    5.45e+08\n",
      "Dest[T.JAC]                -0.2799        nan        nan        nan         nan         nan\n",
      "Dest[T.JFK]                 0.1903   3.95e+06   4.82e-08      1.000   -7.75e+06    7.75e+06\n",
      "Dest[T.KOA]                 0.1006        nan        nan        nan         nan         nan\n",
      "Dest[T.LAS]                -0.1023   1.64e+06  -6.24e-08      1.000   -3.21e+06    3.21e+06\n",
      "Dest[T.LAX]                 0.2055        nan        nan        nan         nan         nan\n",
      "Dest[T.LIH]                -0.1383        nan        nan        nan         nan         nan\n",
      "Dest[T.MCO]                -0.0451        nan        nan        nan         nan         nan\n",
      "Dest[T.MDW]                -0.5112        nan        nan        nan         nan         nan\n",
      "Dest[T.MFR]                -0.0163   3.28e+06  -4.99e-09      1.000   -6.42e+06    6.42e+06\n",
      "Dest[T.MIA]                 0.0971        nan        nan        nan         nan         nan\n",
      "Dest[T.MRY]                -0.2994        nan        nan        nan         nan         nan\n",
      "Dest[T.MSO]                -0.6323        nan        nan        nan         nan         nan\n",
      "Dest[T.MSP]                -0.0186        nan        nan        nan         nan         nan\n",
      "Dest[T.MSY]                 0.1464        nan        nan        nan         nan         nan\n",
      "Dest[T.MTJ]                -0.0516        nan        nan        nan         nan         nan\n",
      "Dest[T.OGG]                -0.0617        nan        nan        nan         nan         nan\n",
      "Dest[T.OMA]                -7.0756   9.75e+11  -7.26e-12      1.000   -1.91e+12    1.91e+12\n",
      "Dest[T.ONT]                 0.0239        nan        nan        nan         nan         nan\n",
      "Dest[T.ORD]                 0.4123        nan        nan        nan         nan         nan\n",
      "Dest[T.OTH]                 0.5039   3.26e+06   1.54e-07      1.000    -6.4e+06     6.4e+06\n",
      "Dest[T.PAE]                -0.3774        nan        nan        nan         nan         nan\n",
      "Dest[T.PDX]                 0.0719   3.25e+06   2.22e-08      1.000   -6.36e+06    6.36e+06\n",
      "Dest[T.PHL]                 0.3936        nan        nan        nan         nan         nan\n",
      "Dest[T.PHX]                -0.2704        nan        nan        nan         nan         nan\n",
      "Dest[T.PIT]                 0.0252        nan        nan        nan         nan         nan\n",
      "Dest[T.PSC]                 0.1868        nan        nan        nan         nan         nan\n",
      "Dest[T.PSP]                 0.0305        nan        nan        nan         nan         nan\n",
      "Dest[T.RDD]                -0.1798        nan        nan        nan         nan         nan\n",
      "Dest[T.RDM]                -0.4668   3.26e+06  -1.43e-07      1.000   -6.38e+06    6.38e+06\n",
      "Dest[T.RDU]                 0.0066   5.68e+06   1.16e-09      1.000   -1.11e+07    1.11e+07\n",
      "Dest[T.RNO]                -0.2721   1.63e+06  -1.67e-07      1.000    -3.2e+06     3.2e+06\n",
      "Dest[T.RSW]                 0.1792        nan        nan        nan         nan         nan\n",
      "Dest[T.SAN]                 0.0246        nan        nan        nan         nan         nan\n",
      "Dest[T.SAT]                -0.2991   7.99e+05  -3.74e-07      1.000   -1.57e+06    1.57e+06\n",
      "Dest[T.SBA]                 0.0606        nan        nan        nan         nan         nan\n",
      "Dest[T.SBP]                 0.0267        nan        nan        nan         nan         nan\n",
      "Dest[T.SDF]                -6.4696   7.75e+10  -8.35e-11      1.000   -1.52e+11    1.52e+11\n",
      "Dest[T.SEA]                 0.0372        nan        nan        nan         nan         nan\n",
      "Dest[T.SLC]                -0.2038        nan        nan        nan         nan         nan\n",
      "Dest[T.SMF]                 0.0357        nan        nan        nan         nan         nan\n",
      "Dest[T.SNA]                 0.0513        nan        nan        nan         nan         nan\n",
      "Dest[T.STL]                 8.9293        nan        nan        nan         nan         nan\n",
      "Dest[T.STS]                -0.5973        nan        nan        nan         nan         nan\n",
      "Dest[T.SUN]                -0.3160        nan        nan        nan         nan         nan\n",
      "Dest[T.TPA]                 0.0449        nan        nan        nan         nan         nan\n",
      "Dest[T.TUS]                 0.1071        nan        nan        nan         nan         nan\n",
      "DestState[T.AZ]            -0.1633        nan        nan        nan         nan         nan\n",
      "DestState[T.CA]            -0.5603        nan        nan        nan         nan         nan\n",
      "DestState[T.CO]            -0.1228        nan        nan        nan         nan         nan\n",
      "DestState[T.CT]             0.6087   3.12e+08   1.95e-09      1.000   -6.11e+08    6.11e+08\n",
      "DestState[T.FL]             0.3992   1.19e+06   3.36e-07      1.000   -2.33e+06    2.33e+06\n",
      "DestState[T.GA]             0.1636   6.36e+06   2.57e-08      1.000   -1.25e+07    1.25e+07\n",
      "DestState[T.HI]             0.2010        nan        nan        nan         nan         nan\n",
      "DestState[T.ID]            -0.2173        nan        nan        nan         nan         nan\n",
      "DestState[T.IL]            -0.0989   6.95e+05  -1.42e-07      1.000   -1.36e+06    1.36e+06\n",
      "DestState[T.IN]             0.0076   2.76e+08   2.74e-11      1.000   -5.41e+08    5.41e+08\n",
      "DestState[T.KY]            -6.4696   7.75e+10  -8.35e-11      1.000   -1.52e+11    1.52e+11\n",
      "DestState[T.LA]             0.1464        nan        nan        nan         nan         nan\n",
      "DestState[T.MA]             0.1542        nan        nan        nan         nan         nan\n",
      "DestState[T.MD]             0.2363   1.95e+07   1.21e-08      1.000   -3.83e+07    3.83e+07\n",
      "DestState[T.MI]            -0.0423   9.95e+06  -4.25e-09      1.000   -1.95e+07    1.95e+07\n",
      "DestState[T.MN]            -0.0186        nan        nan        nan         nan         nan\n",
      "DestState[T.MO]             8.9293        nan        nan        nan         nan         nan\n",
      "DestState[T.MT]            -0.5301        nan        nan        nan         nan         nan\n",
      "DestState[T.NC]             0.1245   5.91e+06   2.11e-08      1.000   -1.16e+07    1.16e+07\n",
      "DestState[T.NE]            -7.0756   9.74e+11  -7.26e-12      1.000   -1.91e+12    1.91e+12\n",
      "DestState[T.NJ]             0.4456        nan        nan        nan         nan         nan\n",
      "DestState[T.NM]             0.0665   6.97e+04   9.54e-07      1.000   -1.37e+05    1.37e+05\n",
      "DestState[T.NV]            -0.3744   1.64e+06  -2.28e-07      1.000   -3.21e+06    3.21e+06\n",
      "DestState[T.NY]             0.1903   4.13e+06   4.61e-08      1.000   -8.09e+06    8.09e+06\n",
      "DestState[T.OH]             0.0527   8.38e+06   6.28e-09      1.000   -1.64e+07    1.64e+07\n",
      "DestState[T.OR]            -0.1652   3.53e+06  -4.68e-08      1.000   -6.92e+06    6.92e+06\n",
      "DestState[T.PA]             0.4189        nan        nan        nan         nan         nan\n",
      "DestState[T.TN]            -0.0265        nan        nan        nan         nan         nan\n",
      "DestState[T.TX]            -0.0188   7.06e+05  -2.67e-08      1.000   -1.38e+06    1.38e+06\n",
      "DestState[T.UT]            -0.2038        nan        nan        nan         nan         nan\n",
      "DestState[T.VA]             0.1541   2.49e+06   6.19e-08      1.000   -4.88e+06    4.88e+06\n",
      "DestState[T.WA]            -0.4178        nan        nan        nan         nan         nan\n",
      "DestState[T.WY]            -0.2799        nan        nan        nan         nan         nan\n",
      "DepTimeBlk[T.0600-0659]    -0.2207      0.121     -1.824      0.068      -0.458       0.016\n",
      "DepTimeBlk[T.0700-0759]    -0.1900      0.126     -1.511      0.131      -0.436       0.056\n",
      "DepTimeBlk[T.0800-0859]     0.1854      0.105      1.768      0.077      -0.020       0.391\n",
      "DepTimeBlk[T.0900-0959]     0.5329      0.111      4.793      0.000       0.315       0.751\n",
      "DepTimeBlk[T.1000-1059]     0.6447      0.104      6.175      0.000       0.440       0.849\n",
      "DepTimeBlk[T.1100-1159]     0.6815      0.108      6.299      0.000       0.469       0.894\n",
      "DepTimeBlk[T.1200-1259]     0.8813      0.107      8.230      0.000       0.671       1.091\n",
      "DepTimeBlk[T.1300-1359]     0.8261      0.104      7.967      0.000       0.623       1.029\n",
      "DepTimeBlk[T.1400-1459]     0.8643      0.110      7.851      0.000       0.649       1.080\n",
      "DepTimeBlk[T.1500-1559]     0.9658      0.116      8.332      0.000       0.739       1.193\n",
      "DepTimeBlk[T.1600-1659]     0.9241      0.103      9.006      0.000       0.723       1.125\n",
      "DepTimeBlk[T.1700-1759]     1.0237      0.117      8.783      0.000       0.795       1.252\n",
      "DepTimeBlk[T.1800-1859]     0.7606      0.107      7.121      0.000       0.551       0.970\n",
      "DepTimeBlk[T.1900-1959]     0.9095      0.110      8.287      0.000       0.694       1.125\n",
      "DepTimeBlk[T.2000-2059]     0.8923      0.115      7.772      0.000       0.667       1.117\n",
      "DepTimeBlk[T.2100-2159]     0.9920      0.119      8.315      0.000       0.758       1.226\n",
      "DepTimeBlk[T.2200-2259]     0.9677      0.105      9.235      0.000       0.762       1.173\n",
      "DepTimeBlk[T.2300-2359]     1.0552      0.110      9.604      0.000       0.840       1.271\n",
      "Precip                     -0.0829      0.324     -0.256      0.798      -0.717       0.551\n",
      "Air_Temp_Max                0.0305      0.010      3.082      0.002       0.011       0.050\n",
      "Air_Temp_Min               -0.0032      0.013     -0.249      0.803      -0.028       0.022\n",
      "DayOfWeek                   0.0420      0.006      7.032      0.000       0.030       0.054\n",
      "Distance                    0.0009     66.074    1.3e-05      1.000    -129.502     129.504\n",
      "DistanceGroup              -0.2833   1.63e+04  -1.74e-05      1.000   -3.19e+04    3.19e+04\n",
      "===========================================================================================\n"
     ]
    },
    {
     "name": "stderr",
     "output_type": "stream",
     "text": [
      "D:\\Anaconda\\lib\\site-packages\\statsmodels\\base\\model.py:604: ConvergenceWarning: Maximum Likelihood optimization failed to converge. Check mle_retvals\n",
      "  warnings.warn(\"Maximum Likelihood optimization failed to \"\n"
     ]
    }
   ],
   "source": [
    "logmodeldepdelay15 = smf.logit(formula = 'DepDel15 ~ Precip + Air_Temp_Max + Air_Temp_Min + DayOfWeek + Operating_Airline + Dest + DestState + DepTimeBlk + Distance + DistanceGroup',\n",
    "                     data = train).fit()\n",
    "\n",
    "print(logmodeldepdelay15.summary())"
   ]
  },
  {
   "cell_type": "markdown",
   "id": "15dcc2c7",
   "metadata": {},
   "source": [
    "**Baseline Classification Model for DepDelay**"
   ]
  },
  {
   "cell_type": "code",
   "execution_count": 144,
   "id": "9348c260",
   "metadata": {},
   "outputs": [
    {
     "name": "stdout",
     "output_type": "stream",
     "text": [
      "0    32829\n",
      "1    18701\n",
      "dtype: int64\n"
     ]
    }
   ],
   "source": [
    "delay_false = np.sum(train['DepDelayBinary'] == 0)  # not delayed \n",
    "delay_true = np.sum(train['DepDelayBinary'] == 1)   # delayed\n",
    "\n",
    "print(pd.Series({'0': delay_false, '1': delay_true}))"
   ]
  },
  {
   "cell_type": "code",
   "execution_count": 145,
   "id": "d31dc4d1",
   "metadata": {
    "scrolled": true
   },
   "outputs": [
    {
     "name": "stdout",
     "output_type": "stream",
     "text": [
      "ACC: 0.6370851930914031\n"
     ]
    }
   ],
   "source": [
    "ACC = delay_false/(delay_false + delay_true) \n",
    "print('ACC:', ACC)"
   ]
  },
  {
   "cell_type": "code",
   "execution_count": 146,
   "id": "97857b95",
   "metadata": {},
   "outputs": [
    {
     "name": "stdout",
     "output_type": "stream",
     "text": [
      "0 0\n"
     ]
    }
   ],
   "source": [
    "TPR = 0                        # TPR = TP/P = TP/(TP+FN)\n",
    "FPR = 0                        # FPR = FP/N = FP/(FP+TN)\n",
    "print(TPR,FPR)"
   ]
  },
  {
   "cell_type": "code",
   "execution_count": 147,
   "id": "0b31db21",
   "metadata": {},
   "outputs": [
    {
     "name": "stdout",
     "output_type": "stream",
     "text": [
      "1 1\n"
     ]
    }
   ],
   "source": [
    "TNR = 1                       # TNR = TN/N = TN/(TN+FP)\n",
    "FNR = 1                       # FNR = FN/P = FN/(TP+FN)\n",
    "print(TNR,FNR)"
   ]
  },
  {
   "cell_type": "markdown",
   "id": "588cf6d1",
   "metadata": {},
   "source": [
    "**Logistic Regression Classification Model for DepDelay**"
   ]
  },
  {
   "cell_type": "code",
   "execution_count": 148,
   "id": "eb33d0cd",
   "metadata": {
    "scrolled": true
   },
   "outputs": [
    {
     "data": {
      "text/plain": [
       "0        0.334983\n",
       "1        0.533725\n",
       "2        0.354292\n",
       "3        0.476218\n",
       "4        0.161148\n",
       "           ...   \n",
       "22080    0.327277\n",
       "22081    0.243354\n",
       "22082    0.301508\n",
       "22083    0.533720\n",
       "22084    0.185887\n",
       "Length: 22085, dtype: float64"
      ]
     },
     "execution_count": 148,
     "metadata": {},
     "output_type": "execute_result"
    }
   ],
   "source": [
    "#y_test = test['DepDelayBinary']\n",
    "y_prob = logmodeldepdelay.predict(X_test)\n",
    "y_prob"
   ]
  },
  {
   "cell_type": "code",
   "execution_count": 149,
   "id": "b023c4a7",
   "metadata": {
    "scrolled": true
   },
   "outputs": [
    {
     "data": {
      "text/plain": [
       "0        0\n",
       "1        1\n",
       "2        0\n",
       "3        0\n",
       "4        0\n",
       "        ..\n",
       "22080    0\n",
       "22081    0\n",
       "22082    0\n",
       "22083    1\n",
       "22084    0\n",
       "Length: 22085, dtype: int64"
      ]
     },
     "execution_count": 149,
     "metadata": {},
     "output_type": "execute_result"
    }
   ],
   "source": [
    "y_pred = pd.Series([1 if x > 0.5 else 0 for x in y_prob], index=y_prob.index)\n",
    "y_pred"
   ]
  },
  {
   "cell_type": "code",
   "execution_count": 150,
   "id": "caf8e114",
   "metadata": {},
   "outputs": [
    {
     "name": "stdout",
     "output_type": "stream",
     "text": [
      "Confusion Matrix : \n",
      " [[12621  1483]\n",
      " [ 5959  2022]]\n"
     ]
    }
   ],
   "source": [
    "cm = confusion_matrix(y_test_class, y_pred)\n",
    "print (\"Confusion Matrix : \\n\", cm) "
   ]
  },
  {
   "cell_type": "code",
   "execution_count": 151,
   "id": "6e44ad5c",
   "metadata": {},
   "outputs": [
    {
     "name": "stdout",
     "output_type": "stream",
     "text": [
      "ACC: 0.663029205342993\n"
     ]
    }
   ],
   "source": [
    "# Accuracy\n",
    "print('ACC:', (cm.ravel()[0]+cm.ravel()[3])/sum(cm.ravel()))   # T/total = (TP+TN)/total)"
   ]
  },
  {
   "cell_type": "code",
   "execution_count": 152,
   "id": "80107572",
   "metadata": {
    "scrolled": true
   },
   "outputs": [
    {
     "name": "stdout",
     "output_type": "stream",
     "text": [
      "TPR: 0.253351710311991\n",
      "FPR: 0.10514747589336358\n"
     ]
    }
   ],
   "source": [
    "tpr = cm.ravel()[3] / (cm.ravel()[2] + cm.ravel()[3])\n",
    "fpr = cm.ravel()[1] / (cm.ravel()[0] + cm.ravel()[1])\n",
    "print('TPR:', tpr)\n",
    "print('FPR:', fpr)"
   ]
  },
  {
   "cell_type": "code",
   "execution_count": 153,
   "id": "481cd928",
   "metadata": {
    "scrolled": false
   },
   "outputs": [
    {
     "data": {
      "image/png": "[encoded data removed]",
      "text/plain": [
       "<Figure size 576x432 with 1 Axes>"
      ]
     },
     "metadata": {
      "needs_background": "light"
     },
     "output_type": "display_data"
    }
   ],
   "source": [
    "fpr, tpr, _ = roc_curve(y_test, y_prob)\n",
    "roc_auc = auc(fpr, tpr)\n",
    "\n",
    "plt.figure(figsize=(8, 6))\n",
    "plt.title('ROC Curve', fontsize=18)\n",
    "plt.xlabel('FPR', fontsize=16)\n",
    "plt.ylabel('TPR', fontsize=16)\n",
    "plt.xlim([-0.01, 1.00])\n",
    "plt.ylim([-0.01, 1.01])\n",
    "plt.plot(fpr, tpr, lw=3, label='Logistic Regression (area = {:0.2f})'.format(roc_auc))\n",
    "plt.plot([0, 1], [0, 1], color='navy', lw=3, linestyle='--', label='Naive Baseline (area = 0.50)')\n",
    "plt.legend(loc='lower right', fontsize=14)\n",
    "plt.show()"
   ]
  },
  {
   "cell_type": "markdown",
   "id": "354a12af",
   "metadata": {},
   "source": [
    "**Logistic Regression Classification Model for DepDelay15**"
   ]
  },
  {
   "cell_type": "code",
   "execution_count": 154,
   "id": "905e21cd",
   "metadata": {
    "scrolled": true
   },
   "outputs": [
    {
     "data": {
      "text/plain": [
       "0        0.164613\n",
       "1        0.292399\n",
       "2        0.220759\n",
       "3        0.238978\n",
       "4        0.096118\n",
       "           ...   \n",
       "22080    0.135779\n",
       "22081    0.138693\n",
       "22082    0.162296\n",
       "22083    0.228314\n",
       "22084    0.104444\n",
       "Length: 22085, dtype: float64"
      ]
     },
     "execution_count": 154,
     "metadata": {},
     "output_type": "execute_result"
    }
   ],
   "source": [
    "#y_test = test['DepDel15']\n",
    "y_prob = logmodeldepdelay15.predict(X_test)\n",
    "y_prob"
   ]
  },
  {
   "cell_type": "code",
   "execution_count": 155,
   "id": "4cc89e4f",
   "metadata": {
    "scrolled": true
   },
   "outputs": [
    {
     "data": {
      "text/plain": [
       "0        0\n",
       "1        0\n",
       "2        0\n",
       "3        0\n",
       "4        0\n",
       "        ..\n",
       "22080    0\n",
       "22081    0\n",
       "22082    0\n",
       "22083    0\n",
       "22084    0\n",
       "Length: 22085, dtype: int64"
      ]
     },
     "execution_count": 155,
     "metadata": {},
     "output_type": "execute_result"
    }
   ],
   "source": [
    "y_pred = pd.Series([1 if x > 0.5 else 0 for x in y_prob], index=y_prob.index)\n",
    "y_pred"
   ]
  },
  {
   "cell_type": "code",
   "execution_count": 156,
   "id": "25b82785",
   "metadata": {},
   "outputs": [
    {
     "name": "stdout",
     "output_type": "stream",
     "text": [
      "Confusion Matrix : \n",
      " [[18233     0]\n",
      " [ 3852     0]]\n"
     ]
    }
   ],
   "source": [
    "cm = confusion_matrix(y_test_delay15, y_pred)\n",
    "print (\"Confusion Matrix : \\n\", cm) "
   ]
  },
  {
   "cell_type": "code",
   "execution_count": 157,
   "id": "a57c63dc",
   "metadata": {},
   "outputs": [
    {
     "name": "stdout",
     "output_type": "stream",
     "text": [
      "ACC: 0.8255829748698211\n"
     ]
    }
   ],
   "source": [
    "# Accuracy\n",
    "print('ACC:', (cm.ravel()[0]+cm.ravel()[3])/sum(cm.ravel()))  # T/total = (TP+TN)/total)"
   ]
  },
  {
   "cell_type": "code",
   "execution_count": 158,
   "id": "55ef3327",
   "metadata": {
    "scrolled": true
   },
   "outputs": [
    {
     "name": "stdout",
     "output_type": "stream",
     "text": [
      "TPR: 0.0\n",
      "FPR: 0.0\n"
     ]
    }
   ],
   "source": [
    "tpr = cm.ravel()[3] / (cm.ravel()[2] + cm.ravel()[3])\n",
    "fpr = cm.ravel()[1] / (cm.ravel()[0] + cm.ravel()[1])\n",
    "print('TPR:', tpr)\n",
    "print('FPR:', fpr)"
   ]
  },
  {
   "cell_type": "code",
   "execution_count": 166,
   "id": "58544150",
   "metadata": {},
   "outputs": [
    {
     "name": "stdout",
     "output_type": "stream",
     "text": [
      "Confusion Matrix : \n",
      " [[18233     0]\n",
      " [ 3852     0]]\n",
      "Accuracy is: 0.8256\n",
      "TPR is: 0.0000\n",
      "FPR is: 0.0000\n",
      "PRE is: nan\n"
     ]
    },
    {
     "name": "stderr",
     "output_type": "stream",
     "text": [
      "C:\\Users\\Vishal Vinjapuri\\AppData\\Local\\Temp\\ipykernel_74844\\1201991673.py:7: RuntimeWarning: invalid value encountered in longlong_scalars\n",
      "  PRE = cm.ravel()[3]/(cm.ravel()[3]+cm.ravel()[1])\n"
     ]
    }
   ],
   "source": [
    "cm = confusion_matrix(y_test_delay15, y_pred)\n",
    "print (\"Confusion Matrix : \\n\", cm)\n",
    "\n",
    "acc = (cm.ravel()[0]+cm.ravel()[3])/sum(cm.ravel())\n",
    "TPR = cm.ravel()[3]/(cm.ravel()[3]+cm.ravel()[2])\n",
    "FPR = cm.ravel()[1]/(cm.ravel()[1]+cm.ravel()[0])\n",
    "PRE = cm.ravel()[3]/(cm.ravel()[3]+cm.ravel()[1])\n",
    "print('Accuracy is: %.4f' %acc)\n",
    "print('TPR is: %.4f' % TPR)\n",
    "print('FPR is: %.4f' % FPR)\n",
    "print('PRE is: %.4f' % PRE)"
   ]
  },
  {
   "cell_type": "code",
   "execution_count": 159,
   "id": "302e74fc",
   "metadata": {
    "scrolled": true
   },
   "outputs": [
    {
     "data": {
      "image/png": "[encoded data removed]",
      "text/plain": [
       "<Figure size 576x432 with 1 Axes>"
      ]
     },
     "metadata": {
      "needs_background": "light"
     },
     "output_type": "display_data"
    }
   ],
   "source": [
    "fpr, tpr, _ = roc_curve(y_test, y_prob)\n",
    "roc_auc = auc(fpr, tpr)\n",
    "\n",
    "plt.figure(figsize=(8, 6))\n",
    "plt.title('ROC Curve', fontsize=18)\n",
    "plt.xlabel('FPR', fontsize=16)\n",
    "plt.ylabel('TPR', fontsize=16)\n",
    "plt.xlim([-0.01, 1.00])\n",
    "plt.ylim([-0.01, 1.01])\n",
    "plt.plot(fpr, tpr, lw=3, label='Logistic Regression (area = {:0.2f})'.format(roc_auc))\n",
    "plt.plot([0, 1], [0, 1], color='navy', lw=3, linestyle='--', label='Naive Baseline (area = 0.50)')\n",
    "plt.legend(loc='lower right', fontsize=14)\n",
    "plt.show()"
   ]
  },
  {
   "cell_type": "markdown",
   "id": "629d11db",
   "metadata": {},
   "source": [
    "**Bootstrap**"
   ]
  },
  {
   "cell_type": "code",
   "execution_count": 185,
   "id": "fb687504",
   "metadata": {},
   "outputs": [],
   "source": [
    "def bootstrap_validation_logreg(X_test, y_test, model, sample=100, random_state=88):\n",
    "\n",
    "    n_sample = sample\n",
    "    output_dict = {}\n",
    "\n",
    "    output_dict['Accuracy'] = []\n",
    "    output_dict['TPR'] = []\n",
    "    output_dict['FPR'] = []\n",
    "    output_dict['PRE'] = []\n",
    "        \n",
    "    for bs_iter in range(n_sample):\n",
    "        bs_index = np.random.choice(X_test.index, len(X_test.index), replace=True)\n",
    "        \n",
    "        bs_data = X_test.loc[bs_index]\n",
    "        bs_label = y_test.loc[bs_index]\n",
    "\n",
    "        model_pred = model.predict(bs_data)\n",
    "        bs_pred = pd.Series([1 if x > 0.5 else 0 for x in model_pred], index=model_pred.index)\n",
    "        cm = confusion_matrix(bs_label, bs_pred)\n",
    "        tn, fp, fn, tp = cm.ravel()\n",
    "        output_dict['Accuracy'].append((cm.ravel()[0]+cm.ravel()[3])/sum(cm.ravel()))\n",
    "        output_dict['TPR'].append(tp / (tp + fn))\n",
    "        output_dict['FPR'].append(fp / (fp + tn))\n",
    "        if tp+fp > 0:\n",
    "            output_dict['PRE'].append(tp / (tp + fp))\n",
    "        else:\n",
    "            output_dict['PRE'].append(0)\n",
    "            \n",
    "    return output_dict\n"
   ]
  },
  {
   "cell_type": "code",
   "execution_count": 186,
   "id": "bbfb1e6e",
   "metadata": {
    "scrolled": true
   },
   "outputs": [],
   "source": [
    "bs_output = bootstrap_validation_logreg(X_test, y_test_class, logmodeldepdelay)"
   ]
  },
  {
   "cell_type": "code",
   "execution_count": 187,
   "id": "71fbcbb2",
   "metadata": {},
   "outputs": [
    {
     "data": {
      "image/png": "[encoded data removed]",
      "text/plain": [
       "<Figure size 1728x864 with 4 Axes>"
      ]
     },
     "metadata": {
      "needs_background": "light"
     },
     "output_type": "display_data"
    }
   ],
   "source": [
    "CI_acc = np.quantile(bs_output['Accuracy'],np.array([0.025,0.975]))\n",
    "CI_TPR = np.quantile(bs_output['TPR'],np.array([0.025,0.975]))\n",
    "CI_FPR = np.quantile(bs_output['FPR'],np.array([0.025,0.975]))\n",
    "CI_PRE = np.quantile(bs_output['PRE'],np.array([0.025,0.975]))\n",
    "\n",
    "fig, axs = plt.subplots(ncols=4, figsize=(24,12))\n",
    "i = 0\n",
    "for metric, metric_results in bs_output.items():\n",
    "    axs[i].hist(metric_results, label = metric)\n",
    "    axs[i].set_xlabel(metric,fontsize=16)\n",
    "    axs[i].set_ylabel('Count',fontsize=16)\n",
    "    i+=1\n",
    "    \n",
    "plt.show()\n"
   ]
  },
  {
   "cell_type": "code",
   "execution_count": 190,
   "id": "d86fcb5c",
   "metadata": {},
   "outputs": [
    {
     "data": {
      "text/html": [
       "<div>\n",
       "<style scoped>\n",
       "    .dataframe tbody tr th:only-of-type {\n",
       "        vertical-align: middle;\n",
       "    }\n",
       "\n",
       "    .dataframe tbody tr th {\n",
       "        vertical-align: top;\n",
       "    }\n",
       "\n",
       "    .dataframe thead th {\n",
       "        text-align: right;\n",
       "    }\n",
       "</style>\n",
       "<table border=\"1\" class=\"dataframe\">\n",
       "  <thead>\n",
       "    <tr style=\"text-align: right;\">\n",
       "      <th></th>\n",
       "      <th>0.025 quantile</th>\n",
       "      <th>0.975 quantile</th>\n",
       "    </tr>\n",
       "  </thead>\n",
       "  <tbody>\n",
       "    <tr>\n",
       "      <th>Accuracy</th>\n",
       "      <td>0.657408</td>\n",
       "      <td>0.670669</td>\n",
       "    </tr>\n",
       "    <tr>\n",
       "      <th>TPR</th>\n",
       "      <td>0.244758</td>\n",
       "      <td>0.263471</td>\n",
       "    </tr>\n",
       "    <tr>\n",
       "      <th>FPR</th>\n",
       "      <td>0.100273</td>\n",
       "      <td>0.109803</td>\n",
       "    </tr>\n",
       "    <tr>\n",
       "      <th>PRE</th>\n",
       "      <td>0.563771</td>\n",
       "      <td>0.595610</td>\n",
       "    </tr>\n",
       "  </tbody>\n",
       "</table>\n",
       "</div>"
      ],
      "text/plain": [
       "          0.025 quantile  0.975 quantile\n",
       "Accuracy        0.657408        0.670669\n",
       "TPR             0.244758        0.263471\n",
       "FPR             0.100273        0.109803\n",
       "PRE             0.563771        0.595610"
      ]
     },
     "execution_count": 190,
     "metadata": {},
     "output_type": "execute_result"
    }
   ],
   "source": [
    "# Let's make a table for this \n",
    "bootstrap_data = {'Accuracy':[CI_acc[0],CI_acc[1]],'TPR':[CI_TPR[0],CI_TPR[1]],\n",
    "                 'FPR':[CI_FPR[0],CI_FPR[1]],'PRE':[CI_PRE[0],CI_PRE[1]]}\n",
    "bootstrap_table = pd.DataFrame(data = bootstrap_data, index = ['0.025 quantile','0.975 quantile']).transpose()\n",
    "bootstrap_table.style.set_properties(**{'font-size': '12pt',}).set_table_styles([{'selector': 'th', 'props': [('font-size', '10pt')]}])\n",
    "bootstrap_table"
   ]
  },
  {
   "cell_type": "code",
   "execution_count": 191,
   "id": "901d1739",
   "metadata": {},
   "outputs": [],
   "source": [
    "bs_output2 = bootstrap_validation_logreg(X_test, y_test_delay15, logmodeldepdelay15)"
   ]
  },
  {
   "cell_type": "code",
   "execution_count": 192,
   "id": "ae22a1bc",
   "metadata": {},
   "outputs": [
    {
     "data": {
      "image/png": "[encoded data removed]",
      "text/plain": [
       "<Figure size 1728x864 with 4 Axes>"
      ]
     },
     "metadata": {
      "needs_background": "light"
     },
     "output_type": "display_data"
    }
   ],
   "source": [
    "CI_acc = np.quantile(bs_output2['Accuracy'],np.array([0.025,0.975]))\n",
    "CI_TPR = np.quantile(bs_output2['TPR'],np.array([0.025,0.975]))\n",
    "CI_FPR = np.quantile(bs_output2['FPR'],np.array([0.025,0.975]))\n",
    "CI_PRE = np.quantile(bs_output2['PRE'],np.array([0.025,0.975]))\n",
    "\n",
    "fig, axs = plt.subplots(ncols=4, figsize=(24,12))\n",
    "i = 0\n",
    "for metric, metric_results in bs_output2.items():\n",
    "    axs[i].hist(metric_results, label = metric)\n",
    "    axs[i].set_xlabel(metric,fontsize=16)\n",
    "    axs[i].set_ylabel('Count',fontsize=16)\n",
    "    i+=1\n",
    "    \n",
    "plt.show()"
   ]
  },
  {
   "cell_type": "code",
   "execution_count": 193,
   "id": "2719488b",
   "metadata": {},
   "outputs": [
    {
     "data": {
      "text/html": [
       "<div>\n",
       "<style scoped>\n",
       "    .dataframe tbody tr th:only-of-type {\n",
       "        vertical-align: middle;\n",
       "    }\n",
       "\n",
       "    .dataframe tbody tr th {\n",
       "        vertical-align: top;\n",
       "    }\n",
       "\n",
       "    .dataframe thead th {\n",
       "        text-align: right;\n",
       "    }\n",
       "</style>\n",
       "<table border=\"1\" class=\"dataframe\">\n",
       "  <thead>\n",
       "    <tr style=\"text-align: right;\">\n",
       "      <th></th>\n",
       "      <th>0.025 quantile</th>\n",
       "      <th>0.975 quantile</th>\n",
       "    </tr>\n",
       "  </thead>\n",
       "  <tbody>\n",
       "    <tr>\n",
       "      <th>Accuracy</th>\n",
       "      <td>0.657408</td>\n",
       "      <td>0.670669</td>\n",
       "    </tr>\n",
       "    <tr>\n",
       "      <th>TPR</th>\n",
       "      <td>0.244758</td>\n",
       "      <td>0.263471</td>\n",
       "    </tr>\n",
       "    <tr>\n",
       "      <th>FPR</th>\n",
       "      <td>0.100273</td>\n",
       "      <td>0.109803</td>\n",
       "    </tr>\n",
       "    <tr>\n",
       "      <th>PRE</th>\n",
       "      <td>0.563771</td>\n",
       "      <td>0.595610</td>\n",
       "    </tr>\n",
       "  </tbody>\n",
       "</table>\n",
       "</div>"
      ],
      "text/plain": [
       "          0.025 quantile  0.975 quantile\n",
       "Accuracy        0.657408        0.670669\n",
       "TPR             0.244758        0.263471\n",
       "FPR             0.100273        0.109803\n",
       "PRE             0.563771        0.595610"
      ]
     },
     "execution_count": 193,
     "metadata": {},
     "output_type": "execute_result"
    }
   ],
   "source": [
    "# Let's make a table for this \n",
    "bootstrap_data = {'Accuracy':[CI_acc[0],CI_acc[1]],'TPR':[CI_TPR[0],CI_TPR[1]],\n",
    "                 'FPR':[CI_FPR[0],CI_FPR[1]],'PRE':[CI_PRE[0],CI_PRE[1]]}\n",
    "bootstrap_table = pd.DataFrame(data = bootstrap_data, index = ['0.025 quantile','0.975 quantile']).transpose()\n",
    "bootstrap_table.style.set_properties(**{'font-size': '12pt',}).set_table_styles([{'selector': 'th', 'props': [('font-size', '10pt')]}])\n",
    "bootstrap_table"
   ]
  }
 ],
 "metadata": {
  "kernelspec": {
   "display_name": "Python 3 (ipykernel)",
   "language": "python",
   "name": "python3"
  },
  "language_info": {
   "codemirror_mode": {
    "name": "ipython",
    "version": 3
   },
   "file_extension": ".py",
   "mimetype": "text/x-python",
   "name": "python",
   "nbconvert_exporter": "python",
   "pygments_lexer": "ipython3",
   "version": "3.9.12"
  }
 },
 "nbformat": 4,
 "nbformat_minor": 5
}
